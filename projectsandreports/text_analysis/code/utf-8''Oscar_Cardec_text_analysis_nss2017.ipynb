{
  "cells": [
    {
      "metadata": {
        "collapsed": true
      },
      "cell_type": "markdown",
      "source": "## Text Analysis - National Security Strategy 2017"
    },
    {
      "metadata": {
        "trusted": true
      },
      "cell_type": "code",
      "source": "# The code asumes the following modules have been imported: \nimport string\nimport nltk\nnltk.download('stopwords')\nfrom nltk.corpus import stopwords",
      "execution_count": 2,
      "outputs": [
        {
          "output_type": "stream",
          "text": "[nltk_data] Downloading package stopwords to /home/nbuser/nltk_data...\n[nltk_data]   Package stopwords is already up-to-date!\n",
          "name": "stdout"
        }
      ]
    },
    {
      "metadata": {
        "trusted": true
      },
      "cell_type": "code",
      "source": "# DATA 620 Assignment 12.1\n# Writen by: Oscar Cardec\n# Semester: SUMMER 2020\n# Professor: DR. CARRIE BEAM\n\n# Starter Code -\n# Based on Toby Donaldson's Python: Visual QuickStart Guide\n# function print_file_stats (location 5347)\n#\n# Modified by Oscar Cardec\n# Last updated: 7 Jul 2020\n# Program to open a text file named 'nss2017.txt'\n# This program will give a word count of all the words in the file\n# and give the top 30 words.\n\n# The code asumes the following modules have been imported: \n# import string\n# import nltk\n# nltk.download('stopwords')\n# from nltk.corpus import stopwords\n\n# open file to be analyzed\nfhand = open('nss2017.txt', 'r').read()\n\n# count characters \nnum_chars = len(fhand)\n\n# count lines \nnum_lines = fhand.count('\\n')\n\nd = dict()\n\n# split lines and lowercase all words\nwords = fhand.split()\nwords = [word.lower() for word in words]\n\n# extra junky or particular words to exclude\nwords = [word.replace('united','') for word in words]\nwords = [word.replace('states','') for word in words]\nwords = [word.replace('also','') for word in words]\nwords = [word.replace('use','') for word in words]\nwords = [word.replace('make','') for word in words]\nwords = [word.replace('must','') for word in words]\nwords = [word.replace('new','') for word in words]\nwords = [word.replace('every','') for word in words]\n\n# filter out punctuation \nwords = [word for word in words if word.isalpha()]\n\n# filter out stop words\nstop_words = set(stopwords.words('english'))\nwords = [w for w in words if not w in stop_words]\n\n# capture word or add count if word is known\nfor w in words:\n    if w in d:    \n       d[w] += 1\n    else:\n       d[w] = 1\n\nnum_words = sum(d[w] for w in d)\n\nlst = [(d[w], w) for w in d]\nlst.sort()\nlst.reverse()\n\nprint('Total number of characters = ' + str(num_chars))\nprint('Total number of lines = ' + str(num_lines))\nprint('Total number of words = ' + str(num_words))\n\nprint('\\n The 30 most frequent words are: \\n')\n\ni = 1\nfor count, word in lst[:30]:   \n    print('%2s.  %4s %s' % (i, count, word))\n    i += 1\n",
      "execution_count": 3,
      "outputs": [
        {
          "output_type": "stream",
          "text": "Total number of characters = 152391\nTotal number of lines = 795\nTotal number of words = 9951\n\n The 30 most frequent words are: \n\n 1.   136 american\n 2.   102 economic\n 3.    86 security\n 4.    75 partners\n 5.    67 military\n 6.    59 national\n 7.    59 allies\n 8.    52 free\n 9.    51 improve\n10.    49 protect\n11.    48 government\n12.    45 work\n13.    44 energy\n14.    42 nuclear\n15.    41 threats\n16.    40 actions\n17.    40 across\n18.    39 world\n19.    39 support\n20.    38 america\n21.    37 trade\n22.    37 interests\n23.    36 priority\n24.    35 capabilities\n25.    34 build\n26.    34 actors\n27.    34 ability\n28.    33 promote\n29.    33 international\n30.    33 information\n",
          "name": "stdout"
        }
      ]
    },
    {
      "metadata": {
        "trusted": true
      },
      "cell_type": "code",
      "source": "",
      "execution_count": null,
      "outputs": []
    }
  ],
  "metadata": {
    "kernelspec": {
      "name": "python36",
      "display_name": "Python 3.6",
      "language": "python"
    },
    "language_info": {
      "mimetype": "text/x-python",
      "nbconvert_exporter": "python",
      "name": "python",
      "pygments_lexer": "ipython3",
      "version": "3.6.6",
      "file_extension": ".py",
      "codemirror_mode": {
        "version": 3,
        "name": "ipython"
      }
    }
  },
  "nbformat": 4,
  "nbformat_minor": 2
}