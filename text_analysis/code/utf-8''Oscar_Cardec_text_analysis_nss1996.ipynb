{
  "cells": [
    {
      "metadata": {
        "collapsed": true
      },
      "cell_type": "markdown",
      "source": "## Text Analysis - National Security Strategy 1996"
    },
    {
      "metadata": {
        "trusted": true
      },
      "cell_type": "code",
      "source": "# The code assumes the following modules have been imported: \nimport string\nimport nltk\nnltk.download('stopwords')\nfrom nltk.corpus import stopwords",
      "execution_count": 1,
      "outputs": [
        {
          "output_type": "stream",
          "text": "[nltk_data] Downloading package stopwords to /home/nbuser/nltk_data...\n[nltk_data]   Unzipping corpora/stopwords.zip.\n",
          "name": "stdout"
        }
      ]
    },
    {
      "metadata": {
        "trusted": true
      },
      "cell_type": "code",
      "source": "# DATA 620 Assignment 12.1\n# Writen by: Oscar Cardec\n# Semester: SUMMER 2020\n# Professor: DR. CARRIE BEAM\n\n# Starter Code -\n# Based on Toby Donaldson's Python: Visual QuickStart Guide\n# function print_file_stats (location 5347)\n#\n# Modified by Oscar Cardec\n# Last updated: 7 Jul 2020\n# Program to open a text file named 'nss1996.txt'\n# This program will give a word count of all the words in the file\n# and give the top 30 words.\n\n# The code assumes the following modules have been imported: \n    # import string\n    # import nltk\n    # nltk.download('stopwords')\n    # from nltk.corpus import stopwords\n\n# open file to be analyzed\nfhand = open('nss1996.txt', 'r').read()\n\n# count characters \nnum_chars = len(fhand)\n\n# count lines \nnum_lines = fhand.count('\\n')\n\nd = dict()\n\n# split lines and lowercase all words\nwords = fhand.split()\nwords = [word.lower() for word in words]\n\n# extra junky or particular words to exclude\nwords = [word.replace('united','') for word in words]\nwords = [word.replace('states','') for word in words]\nwords = [word.replace('also','') for word in words]\nwords = [word.replace('use','') for word in words]\nwords = [word.replace('make','') for word in words]\nwords = [word.replace('must','') for word in words]\nwords = [word.replace('new','') for word in words]\nwords = [word.replace('every','') for word in words]\n\n# filter out punctuation \nwords = [word for word in words if word.isalpha()]\n\n# filter out stop words\nstop_words = set(stopwords.words('english'))\nwords = [w for w in words if not w in stop_words]\n\n# capture word or add count if word is known\nfor w in words:\n    if w in d:    \n       d[w] += 1\n    else:\n       d[w] = 1\n\nnum_words = sum(d[w] for w in d)\n\nlst = [(d[w], w) for w in d]\nlst.sort()\nlst.reverse()\n\nprint('Total number of characters = ' + str(num_chars))\nprint('Total number of lines = ' + str(num_lines))\nprint('Total number of words = ' + str(num_words))\n\nprint('\\n The 30 most frequent words are: \\n')\n\ni = 1\nfor count, word in lst[:30]:\n    print('%2s.  %4s %s' % (i, count, word))\n    i += 1\n",
      "execution_count": 2,
      "outputs": [
        {
          "output_type": "stream",
          "text": "Total number of characters = 207517\nTotal number of lines = 642\nTotal number of words = 14350\n\n The 30 most frequent words are: \n\n 1.   151 security\n 2.   134 international\n 3.   128 economic\n 4.    96 military\n 5.    96 forces\n 6.    88 peace\n 7.    80 american\n 8.    77 support\n 9.    74 national\n10.    69 nations\n11.    68 trade\n12.    68 regional\n13.    68 efforts\n14.    67 nuclear\n15.    66 strategy\n16.    66 president\n17.    62 weapons\n18.    61 help\n19.    60 interests\n20.    57 democratic\n21.    52 global\n22.    51 world\n23.    50 democracy\n24.    43 threats\n25.    43 including\n26.    41 important\n27.    41 free\n28.    40 nato\n29.    40 human\n30.    40 force\n",
          "name": "stdout"
        }
      ]
    },
    {
      "metadata": {
        "trusted": true
      },
      "cell_type": "code",
      "source": "",
      "execution_count": null,
      "outputs": []
    }
  ],
  "metadata": {
    "kernelspec": {
      "name": "python36",
      "display_name": "Python 3.6",
      "language": "python"
    },
    "language_info": {
      "mimetype": "text/x-python",
      "nbconvert_exporter": "python",
      "name": "python",
      "pygments_lexer": "ipython3",
      "version": "3.6.6",
      "file_extension": ".py",
      "codemirror_mode": {
        "version": 3,
        "name": "ipython"
      }
    }
  },
  "nbformat": 4,
  "nbformat_minor": 2
}